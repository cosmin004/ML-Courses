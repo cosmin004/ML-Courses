{
  "nbformat": 4,
  "nbformat_minor": 0,
  "metadata": {
    "file_extension": ".py",
    "kernelspec": {
      "display_name": "old",
      "language": "python",
      "name": "old"
    },
    "language_info": {
      "codemirror_mode": {
        "name": "ipython",
        "version": 3
      },
      "file_extension": ".py",
      "mimetype": "text/x-python",
      "name": "python",
      "nbconvert_exporter": "python",
      "pygments_lexer": "ipython3",
      "version": "3.7.6"
    },
    "mimetype": "text/x-python",
    "name": "python",
    "npconvert_exporter": "python",
    "pygments_lexer": "ipython3",
    "toc": {
      "base_numbering": 1,
      "nav_menu": {},
      "number_sections": true,
      "sideBar": true,
      "skip_h1_title": false,
      "title_cell": "Table of Contents",
      "title_sidebar": "Contents",
      "toc_cell": false,
      "toc_position": {},
      "toc_section_display": true,
      "toc_window_display": false
    },
    "version": 3,
    "colab": {
      "name": "Neural Networks.ipynb",
      "provenance": [],
      "include_colab_link": true
    }
  },
  "cells": [
    {
      "cell_type": "markdown",
      "metadata": {
        "id": "view-in-github",
        "colab_type": "text"
      },
      "source": [
        "<a href=\"https://colab.research.google.com/github/cosmin004/ML-Courses/blob/main/Neural%20Networks.ipynb\" target=\"_parent\"><img src=\"https://colab.research.google.com/assets/colab-badge.svg\" alt=\"Open In Colab\"/></a>"
      ]
    },
    {
      "cell_type": "markdown",
      "metadata": {
        "id": "nduTYLtD1ejS"
      },
      "source": [
        "# Neural Networks\n",
        "Probably the hotest topic in machine learning, neural networks have brought a massive contribution to the research area and have attained incredible results in many applications. In this course we will get the MNIST dataset, build an ANN, train it, test it and tune it to some extent.\n",
        "\n",
        "## Importing the needed packages"
      ]
    },
    {
      "cell_type": "code",
      "metadata": {
        "ExecuteTime": {
          "end_time": "2020-10-20T09:38:36.871240Z",
          "start_time": "2020-10-20T09:38:33.279279Z"
        },
        "id": "o0U2E-yR1ejS"
      },
      "source": [
        "import pandas as pd\n",
        "import tensorflow as tf\n",
        "from PIL import Image\n",
        "import tensorflow.keras as k\n",
        "import matplotlib.pyplot as plt\n",
        "import numpy as np\n",
        "import cv2\n",
        "%matplotlib inline"
      ],
      "execution_count": null,
      "outputs": []
    },
    {
      "cell_type": "markdown",
      "metadata": {
        "id": "rXObpT821ejX"
      },
      "source": [
        "## Getting the dataset"
      ]
    },
    {
      "cell_type": "code",
      "metadata": {
        "ExecuteTime": {
          "end_time": "2020-10-20T09:38:37.174950Z",
          "start_time": "2020-10-20T09:38:36.873026Z"
        },
        "id": "AH7VNXW81ejY"
      },
      "source": [
        "(X_train, y_train), (X_test, y_test) = k.datasets.mnist.load_data()"
      ],
      "execution_count": null,
      "outputs": []
    },
    {
      "cell_type": "code",
      "metadata": {
        "ExecuteTime": {
          "end_time": "2020-10-20T09:38:37.180238Z",
          "start_time": "2020-10-20T09:38:37.176496Z"
        },
        "id": "SrsYLUg-1ejd",
        "outputId": "e4e67539-aa36-4622-b2e6-1d441a8b0b71"
      },
      "source": [
        "X_train.shape"
      ],
      "execution_count": null,
      "outputs": [
        {
          "output_type": "execute_result",
          "data": {
            "text/plain": [
              "(60000, 28, 28)"
            ]
          },
          "metadata": {
            "tags": []
          },
          "execution_count": 3
        }
      ]
    },
    {
      "cell_type": "code",
      "metadata": {
        "ExecuteTime": {
          "end_time": "2020-10-20T09:38:37.183945Z",
          "start_time": "2020-10-20T09:38:37.181392Z"
        },
        "id": "YRXiqE7b1ejh",
        "outputId": "a83e1b8d-80df-4efb-ae5c-ad1c137aca56"
      },
      "source": [
        "X_test.shape"
      ],
      "execution_count": null,
      "outputs": [
        {
          "output_type": "execute_result",
          "data": {
            "text/plain": [
              "(10000, 28, 28)"
            ]
          },
          "metadata": {
            "tags": []
          },
          "execution_count": 4
        }
      ]
    },
    {
      "cell_type": "code",
      "metadata": {
        "ExecuteTime": {
          "end_time": "2020-10-20T09:38:41.393753Z",
          "start_time": "2020-10-20T09:38:41.288301Z"
        },
        "id": "yBBN9buR1ejm",
        "outputId": "1ff6947a-eba9-4661-c96c-7a09e393e613"
      },
      "source": [
        "index = 1024\n",
        "print(y_train[index])\n",
        "plt.imshow(X_train[index], cmap='Greys')"
      ],
      "execution_count": null,
      "outputs": [
        {
          "output_type": "stream",
          "text": [
            "5\n"
          ],
          "name": "stdout"
        },
        {
          "output_type": "execute_result",
          "data": {
            "text/plain": [
              "<matplotlib.image.AxesImage at 0x7f9cf56b0410>"
            ]
          },
          "metadata": {
            "tags": []
          },
          "execution_count": 6
        },
        {
          "output_type": "display_data",
          "data": {
            "image/png": "[encoded data removed]",
            "text/plain": [
              "<Figure size 432x288 with 1 Axes>"
            ]
          },
          "metadata": {
            "tags": [],
            "needs_background": "light"
          }
        }
      ]
    },
    {
      "cell_type": "markdown",
      "metadata": {
        "id": "y8hDCZKD1ejp"
      },
      "source": [
        "## Normalizing images\n",
        "In order for the neural network to work well we need to normalize our input data. For images we can do that by dividing the input data by 255. Normally we would do that with some sort of scaler, but in this case, the maximum value for a pixel is 255 and the minimum value is 0(so we can normalize by dividing the input with value = max-min). "
      ]
    },
    {
      "cell_type": "code",
      "metadata": {
        "ExecuteTime": {
          "end_time": "2020-10-20T09:38:53.195817Z",
          "start_time": "2020-10-20T09:38:53.032294Z"
        },
        "id": "WjjFuZJP1ejp"
      },
      "source": [
        "X_train_scaled = X_train.astype('float32')\n",
        "X_test_scaled = X_test.astype('float32')\n",
        "\n",
        "X_train_scaled /= 255\n",
        "X_test_scaled /= 255"
      ],
      "execution_count": null,
      "outputs": []
    },
    {
      "cell_type": "code",
      "metadata": {
        "ExecuteTime": {
          "end_time": "2020-10-20T09:38:53.778628Z",
          "start_time": "2020-10-20T09:38:53.775537Z"
        },
        "id": "tMIo7mgF1ejs",
        "outputId": "9c7af56c-e7a4-4e59-e8ac-95a5eadf0f99"
      },
      "source": [
        "X_test_scaled.shape[1:]"
      ],
      "execution_count": null,
      "outputs": [
        {
          "output_type": "execute_result",
          "data": {
            "text/plain": [
              "(28, 28)"
            ]
          },
          "metadata": {
            "tags": []
          },
          "execution_count": 8
        }
      ]
    },
    {
      "cell_type": "markdown",
      "metadata": {
        "id": "M6ZopRFI1ejw"
      },
      "source": [
        "## Building the ANN\n",
        "Now we will use tensorflow and keras in order to build, train and test a fully connected neural network. We will build this NN with the sequential API for simplicity. "
      ]
    },
    {
      "cell_type": "code",
      "metadata": {
        "ExecuteTime": {
          "end_time": "2020-04-08T11:49:52.235632Z",
          "start_time": "2020-04-08T11:49:52.092766Z"
        },
        "id": "ET-aRnMH1ejx"
      },
      "source": [
        "model = k.models.Sequential()\n",
        "# First we need to flatten the input image. We can do that with a Flattening layer from keras\n",
        "model.add(k.layers.Flatten(input_shape=X_train_scaled.shape[1:]))\n",
        "# Let's add 3 dense, fully connected layers for the start\n",
        "model.add(k.layers.Dense(288, activation='relu'))\n",
        "model.add(k.layers.Dense(144, activation='relu'))\n",
        "model.add(k.layers.Dense(72, activation='relu'))\n",
        "# Last layer has 10 neurons with softmax activation (for the 10 classes that we have)\n",
        "model.add(k.layers.Dense(10, activation='softmax'))"
      ],
      "execution_count": null,
      "outputs": []
    },
    {
      "cell_type": "code",
      "metadata": {
        "ExecuteTime": {
          "end_time": "2020-04-08T11:49:52.776096Z",
          "start_time": "2020-04-08T11:49:52.765126Z"
        },
        "scrolled": true,
        "id": "cnfXxKiN1ej0",
        "outputId": "3fdce8e8-a32d-4755-e83b-b4ed712cc2d0"
      },
      "source": [
        "model.summary()"
      ],
      "execution_count": null,
      "outputs": [
        {
          "output_type": "stream",
          "text": [
            "Model: \"sequential\"\n",
            "_________________________________________________________________\n",
            "Layer (type)                 Output Shape              Param #   \n",
            "=================================================================\n",
            "flatten (Flatten)            (None, 784)               0         \n",
            "_________________________________________________________________\n",
            "dense (Dense)                (None, 288)               226080    \n",
            "_________________________________________________________________\n",
            "dense_1 (Dense)              (None, 144)               41616     \n",
            "_________________________________________________________________\n",
            "dense_2 (Dense)              (None, 72)                10440     \n",
            "_________________________________________________________________\n",
            "dense_3 (Dense)              (None, 10)                730       \n",
            "=================================================================\n",
            "Total params: 278,866\n",
            "Trainable params: 278,866\n",
            "Non-trainable params: 0\n",
            "_________________________________________________________________\n"
          ],
          "name": "stdout"
        }
      ]
    },
    {
      "cell_type": "code",
      "metadata": {
        "ExecuteTime": {
          "end_time": "2020-04-08T11:49:53.356551Z",
          "start_time": "2020-04-08T11:49:53.222909Z"
        },
        "id": "Bbss8pSD1ej3"
      },
      "source": [
        "# Compile the model\n",
        "model.compile(optimizer='adam', loss='sparse_categorical_crossentropy', metrics=['accuracy'])"
      ],
      "execution_count": null,
      "outputs": []
    },
    {
      "cell_type": "code",
      "metadata": {
        "ExecuteTime": {
          "end_time": "2020-04-08T11:50:22.140627Z",
          "start_time": "2020-04-08T11:49:53.559013Z"
        },
        "id": "mYkFBiCD1ej6",
        "outputId": "3a8ffc29-ac8a-4dd0-94a7-d2069ca0ff17"
      },
      "source": [
        "# Start fitting the model with 10 epochs, while saving the history, with a batch size of 512 and a CV split of 0.2\n",
        "history = model.fit(x=X_train_scaled,y=y_train, batch_size=512, epochs=10, validation_split=0.2)"
      ],
      "execution_count": null,
      "outputs": [
        {
          "output_type": "stream",
          "text": [
            "Train on 48000 samples, validate on 12000 samples\n",
            "Epoch 1/10\n",
            "48000/48000 [==============================] - 4s 91us/sample - loss: 0.5153 - accuracy: 0.8579 - val_loss: 0.1988 - val_accuracy: 0.9424\n",
            "Epoch 2/10\n",
            "48000/48000 [==============================] - 3s 57us/sample - loss: 0.1702 - accuracy: 0.9498 - val_loss: 0.1442 - val_accuracy: 0.9590\n",
            "Epoch 3/10\n",
            "48000/48000 [==============================] - 3s 58us/sample - loss: 0.1145 - accuracy: 0.9659 - val_loss: 0.1168 - val_accuracy: 0.9664\n",
            "Epoch 4/10\n",
            "48000/48000 [==============================] - 2s 48us/sample - loss: 0.0844 - accuracy: 0.9753 - val_loss: 0.1051 - val_accuracy: 0.9692\n",
            "Epoch 5/10\n",
            "48000/48000 [==============================] - 3s 52us/sample - loss: 0.0644 - accuracy: 0.9812 - val_loss: 0.1049 - val_accuracy: 0.9697\n",
            "Epoch 6/10\n",
            "48000/48000 [==============================] - 3s 62us/sample - loss: 0.0490 - accuracy: 0.9853 - val_loss: 0.0859 - val_accuracy: 0.9747\n",
            "Epoch 7/10\n",
            "48000/48000 [==============================] - 3s 56us/sample - loss: 0.0391 - accuracy: 0.9884 - val_loss: 0.0875 - val_accuracy: 0.9753\n",
            "Epoch 8/10\n",
            "48000/48000 [==============================] - 3s 53us/sample - loss: 0.0318 - accuracy: 0.9908 - val_loss: 0.0979 - val_accuracy: 0.9730\n",
            "Epoch 9/10\n",
            "48000/48000 [==============================] - 3s 55us/sample - loss: 0.0234 - accuracy: 0.9939 - val_loss: 0.0932 - val_accuracy: 0.9740\n",
            "Epoch 10/10\n",
            "48000/48000 [==============================] - 3s 56us/sample - loss: 0.0200 - accuracy: 0.9949 - val_loss: 0.0871 - val_accuracy: 0.9753\n"
          ],
          "name": "stdout"
        }
      ]
    },
    {
      "cell_type": "markdown",
      "metadata": {
        "id": "gjRBeyRC1ej-"
      },
      "source": [
        "Let's check how the training went by visualizing the loss for training and validation."
      ]
    },
    {
      "cell_type": "code",
      "metadata": {
        "ExecuteTime": {
          "end_time": "2020-04-08T11:50:23.022281Z",
          "start_time": "2020-04-08T11:50:22.145614Z"
        },
        "id": "NfKmayn81ej_",
        "outputId": "1731094c-7418-4ca8-e431-5611aa6f0e94"
      },
      "source": [
        "test_scores = model.evaluate(X_test_scaled, y_test, verbose=2)"
      ],
      "execution_count": null,
      "outputs": [
        {
          "output_type": "stream",
          "text": [
            "10000/10000 - 1s - loss: 0.0757 - accuracy: 0.9783\n"
          ],
          "name": "stdout"
        }
      ]
    },
    {
      "cell_type": "code",
      "metadata": {
        "ExecuteTime": {
          "end_time": "2020-04-08T11:50:23.355394Z",
          "start_time": "2020-04-08T11:50:23.026271Z"
        },
        "id": "_f_dEgW61ekC",
        "outputId": "8dc3f4bc-021e-4e19-cfd4-68df6fb3baf6"
      },
      "source": [
        "plt.plot(np.arange(0, 10, 1), history.history['loss'], label='Train Loss')\n",
        "plt.plot(np.arange(0, 10, 1), history.history['val_loss'], label='Validation Loss')\n",
        "plt.legend()"
      ],
      "execution_count": null,
      "outputs": [
        {
          "output_type": "execute_result",
          "data": {
            "text/plain": [
              "<matplotlib.legend.Legend at 0x155ec107c48>"
            ]
          },
          "metadata": {
            "tags": []
          },
          "execution_count": 13
        },
        {
          "output_type": "display_data",
          "data": {
            "image/png": "[encoded data removed]",
            "text/plain": [
              "<Figure size 432x288 with 1 Axes>"
            ]
          },
          "metadata": {
            "tags": [],
            "needs_background": "light"
          }
        }
      ]
    },
    {
      "cell_type": "code",
      "metadata": {
        "ExecuteTime": {
          "end_time": "2020-04-08T11:50:23.853069Z",
          "start_time": "2020-04-08T11:50:23.363373Z"
        },
        "id": "DwlvaTUx1ekF",
        "outputId": "069b0dec-3de0-4cb6-98bc-663e8bf52eed"
      },
      "source": [
        "plt.plot(np.arange(0, 10, 1), history.history['accuracy'], label='Train Accuracy')\n",
        "plt.plot(np.arange(0, 10, 1), history.history['val_accuracy'], label='Validation Accuracy')\n",
        "plt.legend()"
      ],
      "execution_count": null,
      "outputs": [
        {
          "output_type": "execute_result",
          "data": {
            "text/plain": [
              "<matplotlib.legend.Legend at 0x155ec13c608>"
            ]
          },
          "metadata": {
            "tags": []
          },
          "execution_count": 14
        },
        {
          "output_type": "display_data",
          "data": {
            "image/png": "[encoded data removed]",
            "text/plain": [
              "<Figure size 432x288 with 1 Axes>"
            ]
          },
          "metadata": {
            "tags": [],
            "needs_background": "light"
          }
        }
      ]
    },
    {
      "cell_type": "markdown",
      "metadata": {
        "id": "0_WIk1gB1ekI"
      },
      "source": [
        "Looks like the model has overfitted. We can see that because the accuracy on the train(99.56%) is noticeably higher than the test accuracy(97.7%). Let's rebuild the model and add some dropout regularisation now. We can do that in keras by adding to the model a dropout layer after the dense layers."
      ]
    },
    {
      "cell_type": "code",
      "metadata": {
        "ExecuteTime": {
          "end_time": "2020-04-08T11:50:24.087446Z",
          "start_time": "2020-04-08T11:50:23.856063Z"
        },
        "id": "GetGjBEq1ekI"
      },
      "source": [
        "model = k.models.Sequential()\n",
        "# First we need to flatten the input image. We can do that with a Flattening layer from keras\n",
        "model.add(k.layers.Flatten(input_shape=X_train_scaled.shape[1:]))\n",
        "# Let's add 3 dense, fully connected layers for the start\n",
        "model.add(k.layers.Dense(288, activation='relu'))\n",
        "model.add(k.layers.Dropout(0.2))\n",
        "model.add(k.layers.Dense(144, activation='relu'))\n",
        "model.add(k.layers.Dropout(0.2))\n",
        "model.add(k.layers.Dense(72, activation='relu'))\n",
        "model.add(k.layers.Dropout(0.2))\n",
        "# Last layer has 10 neurons with softmax activation (for the 10 classes that we have)\n",
        "model.add(k.layers.Dense(10, activation='softmax'))"
      ],
      "execution_count": null,
      "outputs": []
    },
    {
      "cell_type": "markdown",
      "metadata": {
        "id": "lgK319D91ekL"
      },
      "source": [
        "Let's see the performances now."
      ]
    },
    {
      "cell_type": "code",
      "metadata": {
        "ExecuteTime": {
          "end_time": "2020-04-08T11:50:24.219096Z",
          "start_time": "2020-04-08T11:50:24.091434Z"
        },
        "id": "Wu6X-0LD1ekL"
      },
      "source": [
        "# Compile the model\n",
        "model.compile(optimizer='adam', loss='sparse_categorical_crossentropy', metrics=['accuracy'])"
      ],
      "execution_count": null,
      "outputs": []
    },
    {
      "cell_type": "code",
      "metadata": {
        "ExecuteTime": {
          "end_time": "2020-04-08T11:50:57.483334Z",
          "start_time": "2020-04-08T11:50:24.222089Z"
        },
        "id": "FnWJUYb11ekO",
        "outputId": "a0084121-6710-45e8-b241-5bfd0027cea6"
      },
      "source": [
        "# Start fitting the model with 10 epochs, while saving the history, with a batch size of 512 and a CV split of 0.2\n",
        "history = model.fit(x=X_train_scaled,y=y_train, batch_size=512, epochs=10, validation_split=0.2)"
      ],
      "execution_count": null,
      "outputs": [
        {
          "output_type": "stream",
          "text": [
            "Train on 48000 samples, validate on 12000 samples\n",
            "Epoch 1/10\n",
            "48000/48000 [==============================] - 5s 96us/sample - loss: 0.7014 - accuracy: 0.7841 - val_loss: 0.2181 - val_accuracy: 0.9358\n",
            "Epoch 2/10\n",
            "48000/48000 [==============================] - 3s 56us/sample - loss: 0.2542 - accuracy: 0.9256 - val_loss: 0.1434 - val_accuracy: 0.9590\n",
            "Epoch 3/10\n",
            "48000/48000 [==============================] - 3s 67us/sample - loss: 0.1751 - accuracy: 0.9484 - val_loss: 0.1182 - val_accuracy: 0.9651\n",
            "Epoch 4/10\n",
            "48000/48000 [==============================] - 3s 71us/sample - loss: 0.1353 - accuracy: 0.9592 - val_loss: 0.0992 - val_accuracy: 0.9707\n",
            "Epoch 5/10\n",
            "48000/48000 [==============================] - 3s 66us/sample - loss: 0.1122 - accuracy: 0.9665 - val_loss: 0.0925 - val_accuracy: 0.9732\n",
            "Epoch 6/10\n",
            "48000/48000 [==============================] - 3s 55us/sample - loss: 0.0930 - accuracy: 0.9717 - val_loss: 0.0865 - val_accuracy: 0.9742\n",
            "Epoch 7/10\n",
            "48000/48000 [==============================] - 3s 71us/sample - loss: 0.0791 - accuracy: 0.9769 - val_loss: 0.0811 - val_accuracy: 0.9772\n",
            "Epoch 8/10\n",
            "48000/48000 [==============================] - 3s 65us/sample - loss: 0.0688 - accuracy: 0.9786 - val_loss: 0.0862 - val_accuracy: 0.9765\n",
            "Epoch 9/10\n",
            "48000/48000 [==============================] - 3s 63us/sample - loss: 0.0584 - accuracy: 0.9822 - val_loss: 0.0781 - val_accuracy: 0.9769\n",
            "Epoch 10/10\n",
            "48000/48000 [==============================] - 4s 80us/sample - loss: 0.0516 - accuracy: 0.9838 - val_loss: 0.0809 - val_accuracy: 0.9781\n"
          ],
          "name": "stdout"
        }
      ]
    },
    {
      "cell_type": "code",
      "metadata": {
        "ExecuteTime": {
          "end_time": "2020-04-08T11:50:58.542515Z",
          "start_time": "2020-04-08T11:50:57.488322Z"
        },
        "id": "RryOt8tN1ekS",
        "outputId": "32971337-80ee-4929-db8c-0c19683c8ce1"
      },
      "source": [
        "test_scores = model.evaluate(X_test_scaled, y_test, verbose=2)"
      ],
      "execution_count": null,
      "outputs": [
        {
          "output_type": "stream",
          "text": [
            "10000/10000 - 1s - loss: 0.0714 - accuracy: 0.9796\n"
          ],
          "name": "stdout"
        }
      ]
    },
    {
      "cell_type": "code",
      "metadata": {
        "ExecuteTime": {
          "end_time": "2020-04-08T11:50:58.884610Z",
          "start_time": "2020-04-08T11:50:58.546504Z"
        },
        "id": "2p5BbWJz1ekV",
        "outputId": "09eae33c-c80b-47e0-82de-63b1c2cc6d5e"
      },
      "source": [
        "plt.plot(np.arange(0, 10, 1), history.history['loss'], label='Train Loss')\n",
        "plt.plot(np.arange(0, 10, 1), history.history['val_loss'], label='Validation Loss')\n",
        "plt.legend()"
      ],
      "execution_count": null,
      "outputs": [
        {
          "output_type": "execute_result",
          "data": {
            "text/plain": [
              "<matplotlib.legend.Legend at 0x155ed74e588>"
            ]
          },
          "metadata": {
            "tags": []
          },
          "execution_count": 19
        },
        {
          "output_type": "display_data",
          "data": {
            "image/png": "[encoded data removed]",
            "text/plain": [
              "<Figure size 432x288 with 1 Axes>"
            ]
          },
          "metadata": {
            "tags": [],
            "needs_background": "light"
          }
        }
      ]
    },
    {
      "cell_type": "code",
      "metadata": {
        "ExecuteTime": {
          "end_time": "2020-04-08T11:50:59.151931Z",
          "start_time": "2020-04-08T11:50:58.888594Z"
        },
        "id": "MZuUd9pG1ekY",
        "outputId": "5c6ce7bd-2829-498a-e8cd-b913c3a3c5cd"
      },
      "source": [
        "plt.plot(np.arange(0, 10, 1), history.history['accuracy'], label='Train Accuracy')\n",
        "plt.plot(np.arange(0, 10, 1), history.history['val_accuracy'], label='Validation Accuracy')\n",
        "plt.legend()"
      ],
      "execution_count": null,
      "outputs": [
        {
          "output_type": "execute_result",
          "data": {
            "text/plain": [
              "<matplotlib.legend.Legend at 0x155ed76f748>"
            ]
          },
          "metadata": {
            "tags": []
          },
          "execution_count": 20
        },
        {
          "output_type": "display_data",
          "data": {
            "image/png": "[encoded data removed]",
            "text/plain": [
              "<Figure size 432x288 with 1 Axes>"
            ]
          },
          "metadata": {
            "tags": [],
            "needs_background": "light"
          }
        }
      ]
    },
    {
      "cell_type": "markdown",
      "metadata": {
        "id": "Lj_Q5par1eka"
      },
      "source": [
        "Now that looks a lot better. We can try improving our model now by trying to tune the following hyperparameters:\n",
        "\n",
        "# Contest\n",
        "Try improving the model in 5-10 minutes. Try and get as high accuracy as possible.\n",
        "You can start changin the model on the following baseline model:"
      ]
    },
    {
      "cell_type": "code",
      "metadata": {
        "id": "wYrvfB2h1eka"
      },
      "source": [
        "model = k.models.Sequential()\n",
        "\n",
        "model.add(k.layers.Flatten(input_shape=X_train_scaled.shape[1:])) # This layer shall not be changed\n",
        "model.add(k.layers.Dense(288, activation='relu'))\n",
        "model.add(k.layers.Dropout(0.2))\n",
        "model.add(k.layers.Dense(144, activation='relu'))\n",
        "model.add(k.layers.Dropout(0.2))\n",
        "model.add(k.layers.Dense(72, activation='relu'))\n",
        "model.add(k.layers.Dropout(0.2))\n",
        "model.add(k.layers.Dense(10, activation='softmax')) # This layer shall not be changed\n",
        "\n",
        "# Compile the model\n",
        "model.compile(optimizer='adam', loss='sparse_categorical_crossentropy', metrics=['accuracy'])\n",
        "\n",
        "# Here you can change the batch size, epochs and validation split as you please\n",
        "history = model.fit(x=X_train_scaled,y=y_train, batch_size=512, epochs=10, validation_split=0.2)"
      ],
      "execution_count": null,
      "outputs": []
    },
    {
      "cell_type": "code",
      "metadata": {
        "id": "py8E3Jwp1ekd"
      },
      "source": [
        "# Test your model performance on the test set using this function. (this will also be used to pick the winner)\n",
        "test_scores = model.evaluate(X_test_scaled, y_test, verbose=2)"
      ],
      "execution_count": null,
      "outputs": []
    },
    {
      "cell_type": "code",
      "metadata": {
        "id": "P3IjL1Sy1ekf"
      },
      "source": [
        ""
      ],
      "execution_count": null,
      "outputs": []
    }
  ]
}